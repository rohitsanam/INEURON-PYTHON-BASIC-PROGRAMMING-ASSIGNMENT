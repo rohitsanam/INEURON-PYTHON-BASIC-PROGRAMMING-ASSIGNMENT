{
  "nbformat": 4,
  "nbformat_minor": 0,
  "metadata": {
    "colab": {
      "name": "ASSIGNMENT-1.ipynb",
      "provenance": []
    },
    "kernelspec": {
      "name": "python3",
      "display_name": "Python 3"
    },
    "language_info": {
      "name": "python"
    }
  },
  "cells": [
    {
      "cell_type": "markdown",
      "metadata": {
        "id": "qiQoka7BfvZ9"
      },
      "source": [
        "## Write a Python program to print \"Hello Python\"?"
      ]
    },
    {
      "cell_type": "code",
      "metadata": {
        "colab": {
          "base_uri": "https://localhost:8080/"
        },
        "id": "kNS-p26Ifoyz",
        "outputId": "61d2f4fd-caa6-461f-dff2-e748b53859a8"
      },
      "source": [
        "print(\"Hello Python\")"
      ],
      "execution_count": 1,
      "outputs": [
        {
          "output_type": "stream",
          "text": [
            "Hello Python\n"
          ],
          "name": "stdout"
        }
      ]
    },
    {
      "cell_type": "markdown",
      "metadata": {
        "id": "W1pzOCRYf9lx"
      },
      "source": [
        "## Write a Python program to do arithmetical operations addition and division.?\n",
        " \n",
        "Note: When two nubers are divided the result will always be float even if both the divisor and dividend are integers. "
      ]
    },
    {
      "cell_type": "code",
      "metadata": {
        "colab": {
          "base_uri": "https://localhost:8080/"
        },
        "id": "Sq0vhNqTf4VI",
        "outputId": "2599d2db-53ad-42fa-df91-796442b806e5"
      },
      "source": [
        "a = 2 \n",
        "b = 6\n",
        "\n",
        "c = a+b\n",
        "print(\"The sum of two numbers\",a,b\"is:\",c)\n",
        "\n",
        "d = b/a\n",
        "print(\"The Divison of\",a,b\"is:\",d)"
      ],
      "execution_count": 2,
      "outputs": [
        {
          "output_type": "stream",
          "text": [
            "The sum of two numbers 2 b'is:' 8\n",
            "The Divison of 2 b'is:' 3.0\n"
          ],
          "name": "stdout"
        }
      ]
    },
    {
      "cell_type": "markdown",
      "metadata": {
        "id": "QZoktYXrhE-l"
      },
      "source": [
        "## Write a Python program to find the area of a triangle?"
      ]
    },
    {
      "cell_type": "code",
      "metadata": {
        "colab": {
          "base_uri": "https://localhost:8080/"
        },
        "id": "5SLEDOdegmlM",
        "outputId": "8a061711-64c7-42bc-baa6-597b665d162a"
      },
      "source": [
        "height = int(input(\"Enter the Height of the triangle: \"))\n",
        "base = int(input(\"Enter the Base of the triangle: \"))\n",
        "\n",
        "area = 1/2*(base*height)\n",
        "\n",
        "print(\"The area of the Triangle is: \",area)"
      ],
      "execution_count": 3,
      "outputs": [
        {
          "output_type": "stream",
          "text": [
            "Enter the Height of the triangle: 4\n",
            "Enter the Base of the triangle: 5\n",
            "The area of the Triangle is:  10.0\n"
          ],
          "name": "stdout"
        }
      ]
    },
    {
      "cell_type": "markdown",
      "metadata": {
        "id": "8lnCINVxhz5y"
      },
      "source": [
        "## Write a Python program to swap two variables?"
      ]
    },
    {
      "cell_type": "code",
      "metadata": {
        "colab": {
          "base_uri": "https://localhost:8080/"
        },
        "id": "-bgA9q0JhnmM",
        "outputId": "e21a7c81-c820-4d0c-f72c-b2457cfdb3b3"
      },
      "source": [
        "a = int(input(\"Enter the value for the first variable: \"))\n",
        "b = int(input(\"Enter the value for the second variable: \"))\n",
        "\n",
        "a,b = b,a\n",
        "\n",
        "print(\"The Value of a after swapping: \",a)\n",
        "print(\"The Value of b after swapping: \",b)"
      ],
      "execution_count": 4,
      "outputs": [
        {
          "output_type": "stream",
          "text": [
            "Enter the value for the first variable: 4\n",
            "Enter the value for the second variable: 5\n",
            "The Value of a after swapping:  5\n",
            "The Value of b after swapping:  4\n"
          ],
          "name": "stdout"
        }
      ]
    },
    {
      "cell_type": "markdown",
      "metadata": {
        "id": "GCxxjX11iyI0"
      },
      "source": [
        "## Write a Python program to generate a random number?"
      ]
    },
    {
      "cell_type": "code",
      "metadata": {
        "colab": {
          "base_uri": "https://localhost:8080/"
        },
        "id": "-MfC0hCLiFsK",
        "outputId": "71de14e4-1567-48bf-bb52-0feadfe5dbf3"
      },
      "source": [
        "from random import randrange\n",
        "\n",
        "a = randrange(10)\n",
        "\n",
        "print(a)"
      ],
      "execution_count": 5,
      "outputs": [
        {
          "output_type": "stream",
          "text": [
            "9\n"
          ],
          "name": "stdout"
        }
      ]
    }
  ]
}